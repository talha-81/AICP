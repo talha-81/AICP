{
 "cells": [
  {
   "cell_type": "markdown",
   "id": "f9ccbb97",
   "metadata": {},
   "source": [
    "# AICP Intership Task Week 1\n"
   ]
  },
  {
   "cell_type": "markdown",
   "id": "7b1a34ee",
   "metadata": {},
   "source": [
    "### Import Libraries"
   ]
  },
  {
   "cell_type": "code",
   "execution_count": 2,
   "id": "97b5e6dc",
   "metadata": {},
   "outputs": [],
   "source": [
    "import numpy as np"
   ]
  },
  {
   "cell_type": "markdown",
   "id": "aaf8fc03",
   "metadata": {},
   "source": [
    "## Question no 1\n",
    "Write a Numpy program to create an array of all even integers from 30 to 70\n",
    "### Answer"
   ]
  },
  {
   "cell_type": "code",
   "execution_count": 34,
   "id": "9ae5ca21",
   "metadata": {},
   "outputs": [
    {
     "name": "stdout",
     "output_type": "stream",
     "text": [
      "Array of all even numbers from 30 to 70: [30 32 34 36 38 40 42 44 46 48 50 52 54 56 58 60 62 64 66 68]\n"
     ]
    }
   ],
   "source": [
    "arr = np.arange(30, 70, 2)\n",
    "\n",
    "print('Array of all even numbers from 30 to 70:',arr)"
   ]
  },
  {
   "cell_type": "markdown",
   "id": "0ba750b8",
   "metadata": {},
   "source": [
    "## Question No 2\n",
    "Write a numpy program to generate an array of 15 random numbers from a standard normal distribution\n",
    "### Answer"
   ]
  },
  {
   "cell_type": "code",
   "execution_count": 41,
   "id": "5f85d99d",
   "metadata": {},
   "outputs": [
    {
     "name": "stdout",
     "output_type": "stream",
     "text": [
      "Array of 15 ramdom numbers [26 17  0 16 14 20 12 26 27  3 15 25 14 28 25]\n"
     ]
    }
   ],
   "source": [
    "arr1 = np.random.randint(30, size=15)\n",
    "\n",
    "print('Array of 15 ramdom numbers',arr1)"
   ]
  },
  {
   "cell_type": "markdown",
   "id": "841692b1",
   "metadata": {},
   "source": [
    "## Question No 3\n",
    "How to compute the cross-product of two matrices in Numpy?\n",
    "### Answer"
   ]
  },
  {
   "cell_type": "code",
   "execution_count": 31,
   "id": "72d22507",
   "metadata": {},
   "outputs": [
    {
     "name": "stdout",
     "output_type": "stream",
     "text": [
      "Cross product of matrix1 and matrix2 is:\n",
      " [[  94 -126   52]\n",
      " [ -12   20  -22]\n",
      " [  20  -55   52]]\n"
     ]
    }
   ],
   "source": [
    "matrix1 = np.array([[10, 12, 11], [4, 9, 6], [9, 8, 5]])\n",
    "matrix2 = np.array([[4, 10, 17], [6,8, 4], [7, 12, 10]])\n",
    "\n",
    "\n",
    "cross_product = np.cross(matrix1, matrix2)\n",
    "\n",
    "print('Cross product of matrix1 and matrix2 is:\\n',cross_product)"
   ]
  },
  {
   "cell_type": "markdown",
   "id": "ffe4db4e",
   "metadata": {},
   "source": [
    "## Question No 4 \n",
    "How to compute the determinant of an array using Numpy?\n",
    "### Answer"
   ]
  },
  {
   "cell_type": "code",
   "execution_count": 42,
   "id": "bc9f3c8f",
   "metadata": {},
   "outputs": [
    {
     "name": "stdout",
     "output_type": "stream",
     "text": [
      "Determinant of the array is: 10.000000000000002\n"
     ]
    }
   ],
   "source": [
    "arr2 = np.array([[3, 2], [1, 4]])\n",
    "\n",
    "det = np.linalg.det(arr2)\n",
    "\n",
    "print('Determinant of the array is:',det)"
   ]
  },
  {
   "cell_type": "markdown",
   "id": "47f1574d",
   "metadata": {},
   "source": [
    "# Question No 5\n",
    "How to create a 3x3x3 array with the random values using Numpy?\n",
    "### Answer"
   ]
  },
  {
   "cell_type": "code",
   "execution_count": 43,
   "id": "cbb22ef2",
   "metadata": {},
   "outputs": [
    {
     "name": "stdout",
     "output_type": "stream",
     "text": [
      "[[[48 10 25]\n",
      "  [10 43 22]\n",
      "  [44 16 46]]\n",
      "\n",
      " [[12 14 26]\n",
      "  [16 35 22]\n",
      "  [ 7  7 30]]\n",
      "\n",
      " [[19 27 31]\n",
      "  [33 14 22]\n",
      "  [40 34 20]]]\n"
     ]
    }
   ],
   "source": [
    "array3 = np.random.randint(1,50,size=(3, 3, 3))\n",
    "\n",
    "print(array3)"
   ]
  },
  {
   "cell_type": "markdown",
   "id": "2f6611f3",
   "metadata": {},
   "source": [
    "## Question No 6\n",
    "How to create a 5x5 array with ramdom values and find the minimum and maximum values using Numpy?\n",
    "### Answer"
   ]
  },
  {
   "cell_type": "code",
   "execution_count": 50,
   "id": "4be9a8b7",
   "metadata": {},
   "outputs": [
    {
     "name": "stdout",
     "output_type": "stream",
     "text": [
      "Array:\n",
      " [[44 41 43 20  8]\n",
      " [13  8  3 39 22]\n",
      " [42 23 39  8 47]\n",
      " [ 1 11  6 49 31]\n",
      " [38 15 17 34  9]]\n",
      "Minimum value: 1\n",
      "Maximum value: 49\n"
     ]
    }
   ],
   "source": [
    "arr4 = np.random.randint(1,50,size=(5, 5))\n",
    "\n",
    "print(\"Array:\\n\",arr4)\n",
    "\n",
    "min_value = np.min(arr4)\n",
    "max_value = np.max(arr4)\n",
    "\n",
    "print(\"Minimum value:\", min_value)\n",
    "print(\"Maximum value:\", max_value)"
   ]
  },
  {
   "cell_type": "markdown",
   "id": "53b7057f",
   "metadata": {},
   "source": [
    "## Question No 7\n",
    "How to compute the mean, standard deviation, and variance of a given array along the second axis in Numpy?\n",
    "### Answer"
   ]
  },
  {
   "cell_type": "code",
   "execution_count": 52,
   "id": "1430288b",
   "metadata": {},
   "outputs": [
    {
     "name": "stdout",
     "output_type": "stream",
     "text": [
      "Mean along the second axis: [2. 5.]\n",
      "Standard deviation along the second axis: [0.81649658 0.81649658]\n",
      "Variance along the second axis: [0.66666667 0.66666667]\n"
     ]
    }
   ],
   "source": [
    "arr5 = np.array([[1, 2, 3], [4, 5, 6]])\n",
    "\n",
    "mean = np.mean(arr5, axis=1)\n",
    "\n",
    "std_dev = np.std(arr5, axis=1)\n",
    "\n",
    "variance = np.var(arr5, axis=1)\n",
    "\n",
    "print(\"Mean along the second axis:\", mean)\n",
    "print(\"Standard deviation along the second axis:\", std_dev)\n",
    "print(\"Variance along the second axis:\", variance)"
   ]
  },
  {
   "cell_type": "code",
   "execution_count": null,
   "id": "0beb0696",
   "metadata": {},
   "outputs": [],
   "source": []
  }
 ],
 "metadata": {
  "kernelspec": {
   "display_name": "Python 3 (ipykernel)",
   "language": "python",
   "name": "python3"
  },
  "language_info": {
   "codemirror_mode": {
    "name": "ipython",
    "version": 3
   },
   "file_extension": ".py",
   "mimetype": "text/x-python",
   "name": "python",
   "nbconvert_exporter": "python",
   "pygments_lexer": "ipython3",
   "version": "3.11.4"
  }
 },
 "nbformat": 4,
 "nbformat_minor": 5
}
