{
 "cells": [
  {
   "cell_type": "markdown",
   "id": "f9ccbb97",
   "metadata": {},
   "source": [
    "# AICP Intership Task Week 6\n"
   ]
  },
  {
   "cell_type": "markdown",
   "id": "1e55ff59",
   "metadata": {},
   "source": [
    "### Import Libraries"
   ]
  },
  {
   "cell_type": "code",
   "execution_count": 1,
   "id": "4361b974",
   "metadata": {},
   "outputs": [],
   "source": [
    "import numpy as np\n",
    "import pandas as pd\n",
    "import matplotlib.pyplot as plt\n",
    "import plotly.express as px\n",
    "import plotly.graph_objects as go\n",
    "import seaborn as sns\n",
    "import matplotlib.dates as mdates"
   ]
  },
  {
   "cell_type": "markdown",
   "id": "f68349c4",
   "metadata": {},
   "source": [
    "### Reading CSV File"
   ]
  },
  {
   "cell_type": "code",
   "execution_count": 2,
   "id": "15d69b43",
   "metadata": {},
   "outputs": [
    {
     "data": {
      "text/html": [
       "<div>\n",
       "<style scoped>\n",
       "    .dataframe tbody tr th:only-of-type {\n",
       "        vertical-align: middle;\n",
       "    }\n",
       "\n",
       "    .dataframe tbody tr th {\n",
       "        vertical-align: top;\n",
       "    }\n",
       "\n",
       "    .dataframe thead th {\n",
       "        text-align: right;\n",
       "    }\n",
       "</style>\n",
       "<table border=\"1\" class=\"dataframe\">\n",
       "  <thead>\n",
       "    <tr style=\"text-align: right;\">\n",
       "      <th></th>\n",
       "      <th>year</th>\n",
       "      <th>month</th>\n",
       "      <th>day</th>\n",
       "      <th>gender</th>\n",
       "      <th>births</th>\n",
       "    </tr>\n",
       "  </thead>\n",
       "  <tbody>\n",
       "    <tr>\n",
       "      <th>0</th>\n",
       "      <td>1969</td>\n",
       "      <td>1</td>\n",
       "      <td>1.0</td>\n",
       "      <td>F</td>\n",
       "      <td>4046</td>\n",
       "    </tr>\n",
       "    <tr>\n",
       "      <th>1</th>\n",
       "      <td>1969</td>\n",
       "      <td>1</td>\n",
       "      <td>1.0</td>\n",
       "      <td>M</td>\n",
       "      <td>4440</td>\n",
       "    </tr>\n",
       "    <tr>\n",
       "      <th>2</th>\n",
       "      <td>1969</td>\n",
       "      <td>1</td>\n",
       "      <td>2.0</td>\n",
       "      <td>F</td>\n",
       "      <td>4454</td>\n",
       "    </tr>\n",
       "    <tr>\n",
       "      <th>3</th>\n",
       "      <td>1969</td>\n",
       "      <td>1</td>\n",
       "      <td>2.0</td>\n",
       "      <td>M</td>\n",
       "      <td>4548</td>\n",
       "    </tr>\n",
       "    <tr>\n",
       "      <th>4</th>\n",
       "      <td>1969</td>\n",
       "      <td>1</td>\n",
       "      <td>3.0</td>\n",
       "      <td>F</td>\n",
       "      <td>4548</td>\n",
       "    </tr>\n",
       "    <tr>\n",
       "      <th>5</th>\n",
       "      <td>1969</td>\n",
       "      <td>1</td>\n",
       "      <td>3.0</td>\n",
       "      <td>M</td>\n",
       "      <td>4994</td>\n",
       "    </tr>\n",
       "    <tr>\n",
       "      <th>6</th>\n",
       "      <td>1969</td>\n",
       "      <td>1</td>\n",
       "      <td>4.0</td>\n",
       "      <td>F</td>\n",
       "      <td>4440</td>\n",
       "    </tr>\n",
       "    <tr>\n",
       "      <th>7</th>\n",
       "      <td>1969</td>\n",
       "      <td>1</td>\n",
       "      <td>4.0</td>\n",
       "      <td>M</td>\n",
       "      <td>4520</td>\n",
       "    </tr>\n",
       "    <tr>\n",
       "      <th>8</th>\n",
       "      <td>1969</td>\n",
       "      <td>1</td>\n",
       "      <td>5.0</td>\n",
       "      <td>F</td>\n",
       "      <td>4192</td>\n",
       "    </tr>\n",
       "    <tr>\n",
       "      <th>9</th>\n",
       "      <td>1969</td>\n",
       "      <td>1</td>\n",
       "      <td>5.0</td>\n",
       "      <td>M</td>\n",
       "      <td>4198</td>\n",
       "    </tr>\n",
       "  </tbody>\n",
       "</table>\n",
       "</div>"
      ],
      "text/plain": [
       "   year  month  day gender  births\n",
       "0  1969      1  1.0      F    4046\n",
       "1  1969      1  1.0      M    4440\n",
       "2  1969      1  2.0      F    4454\n",
       "3  1969      1  2.0      M    4548\n",
       "4  1969      1  3.0      F    4548\n",
       "5  1969      1  3.0      M    4994\n",
       "6  1969      1  4.0      F    4440\n",
       "7  1969      1  4.0      M    4520\n",
       "8  1969      1  5.0      F    4192\n",
       "9  1969      1  5.0      M    4198"
      ]
     },
     "execution_count": 2,
     "metadata": {},
     "output_type": "execute_result"
    }
   ],
   "source": [
    "df = pd.read_csv('births.csv')\n",
    "df.head(10)"
   ]
  },
  {
   "cell_type": "markdown",
   "id": "aaf8fc03",
   "metadata": {},
   "source": [
    "## Question no 1\n",
    "Add a new column “Decade” by calculating. For example 1969 will be 1960, 1988 will 1980 etc.\n",
    "\n",
    "### Answer"
   ]
  },
  {
   "cell_type": "code",
   "execution_count": 3,
   "id": "bb771b96",
   "metadata": {},
   "outputs": [
    {
     "data": {
      "text/html": [
       "<div>\n",
       "<style scoped>\n",
       "    .dataframe tbody tr th:only-of-type {\n",
       "        vertical-align: middle;\n",
       "    }\n",
       "\n",
       "    .dataframe tbody tr th {\n",
       "        vertical-align: top;\n",
       "    }\n",
       "\n",
       "    .dataframe thead th {\n",
       "        text-align: right;\n",
       "    }\n",
       "</style>\n",
       "<table border=\"1\" class=\"dataframe\">\n",
       "  <thead>\n",
       "    <tr style=\"text-align: right;\">\n",
       "      <th></th>\n",
       "      <th>year</th>\n",
       "      <th>month</th>\n",
       "      <th>day</th>\n",
       "      <th>gender</th>\n",
       "      <th>births</th>\n",
       "      <th>Decade</th>\n",
       "    </tr>\n",
       "  </thead>\n",
       "  <tbody>\n",
       "    <tr>\n",
       "      <th>0</th>\n",
       "      <td>1969</td>\n",
       "      <td>1</td>\n",
       "      <td>1.0</td>\n",
       "      <td>F</td>\n",
       "      <td>4046</td>\n",
       "      <td>1960</td>\n",
       "    </tr>\n",
       "    <tr>\n",
       "      <th>1</th>\n",
       "      <td>1969</td>\n",
       "      <td>1</td>\n",
       "      <td>1.0</td>\n",
       "      <td>M</td>\n",
       "      <td>4440</td>\n",
       "      <td>1960</td>\n",
       "    </tr>\n",
       "    <tr>\n",
       "      <th>2</th>\n",
       "      <td>1969</td>\n",
       "      <td>1</td>\n",
       "      <td>2.0</td>\n",
       "      <td>F</td>\n",
       "      <td>4454</td>\n",
       "      <td>1960</td>\n",
       "    </tr>\n",
       "    <tr>\n",
       "      <th>3</th>\n",
       "      <td>1969</td>\n",
       "      <td>1</td>\n",
       "      <td>2.0</td>\n",
       "      <td>M</td>\n",
       "      <td>4548</td>\n",
       "      <td>1960</td>\n",
       "    </tr>\n",
       "    <tr>\n",
       "      <th>4</th>\n",
       "      <td>1969</td>\n",
       "      <td>1</td>\n",
       "      <td>3.0</td>\n",
       "      <td>F</td>\n",
       "      <td>4548</td>\n",
       "      <td>1960</td>\n",
       "    </tr>\n",
       "  </tbody>\n",
       "</table>\n",
       "</div>"
      ],
      "text/plain": [
       "   year  month  day gender  births  Decade\n",
       "0  1969      1  1.0      F    4046    1960\n",
       "1  1969      1  1.0      M    4440    1960\n",
       "2  1969      1  2.0      F    4454    1960\n",
       "3  1969      1  2.0      M    4548    1960\n",
       "4  1969      1  3.0      F    4548    1960"
      ]
     },
     "execution_count": 3,
     "metadata": {},
     "output_type": "execute_result"
    }
   ],
   "source": [
    "df['Decade'] = df['year'] // 10 * 10\n",
    "df.head()"
   ]
  },
  {
   "cell_type": "markdown",
   "id": "0ba750b8",
   "metadata": {},
   "source": [
    "## Question No 2\n",
    "Show the descriptive statistics of the data.\n",
    "### Answer"
   ]
  },
  {
   "cell_type": "code",
   "execution_count": 4,
   "id": "1eec951f",
   "metadata": {},
   "outputs": [
    {
     "data": {
      "text/html": [
       "<div>\n",
       "<style scoped>\n",
       "    .dataframe tbody tr th:only-of-type {\n",
       "        vertical-align: middle;\n",
       "    }\n",
       "\n",
       "    .dataframe tbody tr th {\n",
       "        vertical-align: top;\n",
       "    }\n",
       "\n",
       "    .dataframe thead th {\n",
       "        text-align: right;\n",
       "    }\n",
       "</style>\n",
       "<table border=\"1\" class=\"dataframe\">\n",
       "  <thead>\n",
       "    <tr style=\"text-align: right;\">\n",
       "      <th></th>\n",
       "      <th>year</th>\n",
       "      <th>month</th>\n",
       "      <th>day</th>\n",
       "      <th>births</th>\n",
       "      <th>Decade</th>\n",
       "    </tr>\n",
       "  </thead>\n",
       "  <tbody>\n",
       "    <tr>\n",
       "      <th>count</th>\n",
       "      <td>15547.000000</td>\n",
       "      <td>15547.000000</td>\n",
       "      <td>15067.000000</td>\n",
       "      <td>15547.000000</td>\n",
       "      <td>15547.000000</td>\n",
       "    </tr>\n",
       "    <tr>\n",
       "      <th>mean</th>\n",
       "      <td>1979.037435</td>\n",
       "      <td>6.515919</td>\n",
       "      <td>17.769894</td>\n",
       "      <td>9762.293561</td>\n",
       "      <td>1974.544285</td>\n",
       "    </tr>\n",
       "    <tr>\n",
       "      <th>std</th>\n",
       "      <td>6.728340</td>\n",
       "      <td>3.449632</td>\n",
       "      <td>15.284034</td>\n",
       "      <td>28552.465810</td>\n",
       "      <td>6.789583</td>\n",
       "    </tr>\n",
       "    <tr>\n",
       "      <th>min</th>\n",
       "      <td>1969.000000</td>\n",
       "      <td>1.000000</td>\n",
       "      <td>1.000000</td>\n",
       "      <td>1.000000</td>\n",
       "      <td>1960.000000</td>\n",
       "    </tr>\n",
       "    <tr>\n",
       "      <th>25%</th>\n",
       "      <td>1974.000000</td>\n",
       "      <td>4.000000</td>\n",
       "      <td>8.000000</td>\n",
       "      <td>4358.000000</td>\n",
       "      <td>1970.000000</td>\n",
       "    </tr>\n",
       "    <tr>\n",
       "      <th>50%</th>\n",
       "      <td>1979.000000</td>\n",
       "      <td>7.000000</td>\n",
       "      <td>16.000000</td>\n",
       "      <td>4814.000000</td>\n",
       "      <td>1970.000000</td>\n",
       "    </tr>\n",
       "    <tr>\n",
       "      <th>75%</th>\n",
       "      <td>1984.000000</td>\n",
       "      <td>10.000000</td>\n",
       "      <td>24.000000</td>\n",
       "      <td>5289.500000</td>\n",
       "      <td>1980.000000</td>\n",
       "    </tr>\n",
       "    <tr>\n",
       "      <th>max</th>\n",
       "      <td>2008.000000</td>\n",
       "      <td>12.000000</td>\n",
       "      <td>99.000000</td>\n",
       "      <td>199622.000000</td>\n",
       "      <td>2000.000000</td>\n",
       "    </tr>\n",
       "  </tbody>\n",
       "</table>\n",
       "</div>"
      ],
      "text/plain": [
       "               year         month           day         births        Decade\n",
       "count  15547.000000  15547.000000  15067.000000   15547.000000  15547.000000\n",
       "mean    1979.037435      6.515919     17.769894    9762.293561   1974.544285\n",
       "std        6.728340      3.449632     15.284034   28552.465810      6.789583\n",
       "min     1969.000000      1.000000      1.000000       1.000000   1960.000000\n",
       "25%     1974.000000      4.000000      8.000000    4358.000000   1970.000000\n",
       "50%     1979.000000      7.000000     16.000000    4814.000000   1970.000000\n",
       "75%     1984.000000     10.000000     24.000000    5289.500000   1980.000000\n",
       "max     2008.000000     12.000000     99.000000  199622.000000   2000.000000"
      ]
     },
     "execution_count": 4,
     "metadata": {},
     "output_type": "execute_result"
    }
   ],
   "source": [
    "df.describe()"
   ]
  },
  {
   "cell_type": "code",
   "execution_count": 5,
   "id": "a63b12f6",
   "metadata": {},
   "outputs": [
    {
     "name": "stdout",
     "output_type": "stream",
     "text": [
      "<class 'pandas.core.frame.DataFrame'>\n",
      "RangeIndex: 15547 entries, 0 to 15546\n",
      "Data columns (total 6 columns):\n",
      " #   Column  Non-Null Count  Dtype  \n",
      "---  ------  --------------  -----  \n",
      " 0   year    15547 non-null  int64  \n",
      " 1   month   15547 non-null  int64  \n",
      " 2   day     15067 non-null  float64\n",
      " 3   gender  15547 non-null  object \n",
      " 4   births  15547 non-null  int64  \n",
      " 5   Decade  15547 non-null  int64  \n",
      "dtypes: float64(1), int64(4), object(1)\n",
      "memory usage: 728.9+ KB\n"
     ]
    }
   ],
   "source": [
    "df.info()"
   ]
  },
  {
   "cell_type": "markdown",
   "id": "841692b1",
   "metadata": {},
   "source": [
    "## Question No 3\n",
    "\n",
    "Check if your data contains any missing values\n",
    "\n",
    "### Answer"
   ]
  },
  {
   "cell_type": "code",
   "execution_count": 6,
   "id": "f2545db0",
   "metadata": {},
   "outputs": [
    {
     "data": {
      "text/plain": [
       "year        0\n",
       "month       0\n",
       "day       480\n",
       "gender      0\n",
       "births      0\n",
       "Decade      0\n",
       "dtype: int64"
      ]
     },
     "execution_count": 6,
     "metadata": {},
     "output_type": "execute_result"
    }
   ],
   "source": [
    "df.isnull().sum()"
   ]
  },
  {
   "cell_type": "markdown",
   "id": "ffe4db4e",
   "metadata": {},
   "source": [
    "## Question No 4 \n",
    "What is the trend of male & female births every decade?\n",
    "\n",
    "### Answer"
   ]
  },
  {
   "cell_type": "code",
   "execution_count": 7,
   "id": "4ee78c90",
   "metadata": {},
   "outputs": [
    {
     "data": {
      "image/png": "[encoded data removed]",
      "text/plain": [
       "<Figure size 700x500 with 1 Axes>"
      ]
     },
     "metadata": {},
     "output_type": "display_data"
    }
   ],
   "source": [
    "decade_births = df.groupby(['Decade', 'gender'])['births'].sum().reset_index()\n",
    "\n",
    "plt.figure(figsize=(7, 5))\n",
    "sns.barplot(x='Decade', y='births', hue='gender', data=decade_births)\n",
    "plt.title('Trend of Male & Female Births Every Decade')\n",
    "plt.xlabel('Decade')\n",
    "plt.ylabel('Number of Births')\n",
    "plt.show()"
   ]
  },
  {
   "cell_type": "markdown",
   "id": "47f1574d",
   "metadata": {},
   "source": [
    "# Question No 5\n",
    "To remove outliers from dataset following techinque to include only those values that fall within 5\n",
    "standard deviations from the mean.This is a common statistical technique used to focus on the central\n",
    "tendency of the data while excluding extreme values.\n",
    "Use this technique to remove outliers.\n",
    "### Answer"
   ]
  },
  {
   "cell_type": "code",
   "execution_count": 8,
   "id": "dddf24a6",
   "metadata": {},
   "outputs": [
    {
     "data": {
      "text/html": [
       "<div>\n",
       "<style scoped>\n",
       "    .dataframe tbody tr th:only-of-type {\n",
       "        vertical-align: middle;\n",
       "    }\n",
       "\n",
       "    .dataframe tbody tr th {\n",
       "        vertical-align: top;\n",
       "    }\n",
       "\n",
       "    .dataframe thead th {\n",
       "        text-align: right;\n",
       "    }\n",
       "</style>\n",
       "<table border=\"1\" class=\"dataframe\">\n",
       "  <thead>\n",
       "    <tr style=\"text-align: right;\">\n",
       "      <th></th>\n",
       "      <th>year</th>\n",
       "      <th>month</th>\n",
       "      <th>day</th>\n",
       "      <th>gender</th>\n",
       "      <th>births</th>\n",
       "      <th>Decade</th>\n",
       "    </tr>\n",
       "  </thead>\n",
       "  <tbody>\n",
       "    <tr>\n",
       "      <th>0</th>\n",
       "      <td>1969</td>\n",
       "      <td>1</td>\n",
       "      <td>1.0</td>\n",
       "      <td>F</td>\n",
       "      <td>4046</td>\n",
       "      <td>1960</td>\n",
       "    </tr>\n",
       "    <tr>\n",
       "      <th>1</th>\n",
       "      <td>1969</td>\n",
       "      <td>1</td>\n",
       "      <td>1.0</td>\n",
       "      <td>M</td>\n",
       "      <td>4440</td>\n",
       "      <td>1960</td>\n",
       "    </tr>\n",
       "    <tr>\n",
       "      <th>2</th>\n",
       "      <td>1969</td>\n",
       "      <td>1</td>\n",
       "      <td>2.0</td>\n",
       "      <td>F</td>\n",
       "      <td>4454</td>\n",
       "      <td>1960</td>\n",
       "    </tr>\n",
       "    <tr>\n",
       "      <th>3</th>\n",
       "      <td>1969</td>\n",
       "      <td>1</td>\n",
       "      <td>2.0</td>\n",
       "      <td>M</td>\n",
       "      <td>4548</td>\n",
       "      <td>1960</td>\n",
       "    </tr>\n",
       "    <tr>\n",
       "      <th>4</th>\n",
       "      <td>1969</td>\n",
       "      <td>1</td>\n",
       "      <td>3.0</td>\n",
       "      <td>F</td>\n",
       "      <td>4548</td>\n",
       "      <td>1960</td>\n",
       "    </tr>\n",
       "  </tbody>\n",
       "</table>\n",
       "</div>"
      ],
      "text/plain": [
       "   year  month  day gender  births  Decade\n",
       "0  1969      1  1.0      F    4046    1960\n",
       "1  1969      1  1.0      M    4440    1960\n",
       "2  1969      1  2.0      F    4454    1960\n",
       "3  1969      1  2.0      M    4548    1960\n",
       "4  1969      1  3.0      F    4548    1960"
      ]
     },
     "execution_count": 8,
     "metadata": {},
     "output_type": "execute_result"
    }
   ],
   "source": [
    "\n",
    "mean = df['births'].mean()\n",
    "std_dev = df['births'].std()\n",
    "\n",
    "lower_bound = mean - 5 * std_dev\n",
    "upper_bound = mean + 5 * std_dev\n",
    "\n",
    "df = df[(df['births'] >= lower_bound) & (df['births'] <= upper_bound)]\n",
    "df.head()"
   ]
  },
  {
   "cell_type": "markdown",
   "id": "54efd541",
   "metadata": {},
   "source": [
    "# Question No 6\n",
    "Plot births by weekday for several decades. Write down your observation.\n",
    "### Answer"
   ]
  },
  {
   "cell_type": "code",
   "execution_count": 39,
   "id": "5a4a7422",
   "metadata": {},
   "outputs": [
    {
     "data": {
      "image/png": "[encoded data removed]",
      "text/plain": [
       "<Figure size 1000x600 with 1 Axes>"
      ]
     },
     "metadata": {},
     "output_type": "display_data"
    }
   ],
   "source": [
    "data = pd.read_csv(\"births.csv\")\n",
    "data = data[(data['day'] >= 1) & (data['day'] <= 31)]\n",
    "data['year'] = data['year'].astype(int)\n",
    "data['month'] = data['month'].astype(int)\n",
    "data['day'] = data['day'].astype(int)\n",
    "data['date_str'] = data['year'].astype(str) + '-' + data['month'].astype(str) + '-' + data['day'].astype(str)\n",
    "data['date'] = pd.to_datetime(data['date_str'], errors='coerce')\n",
    "data.dropna(subset=['date'], inplace=True)\n",
    "data['weekday'] = data['date'].dt.day_name()\n",
    "births_by_weekday = data.groupby([data['date'].dt.year // 10 * 10, 'weekday'])['births'].sum().unstack()\n",
    "\n",
    "ax = births_by_weekday.plot(kind='bar', figsize=(10, 6))\n",
    "plt.title('Births by weekday for Several Decades')\n",
    "plt.ylabel('Total Births')\n",
    "plt.xticks(rotation=0)\n",
    "plt.show()\n"
   ]
  },
  {
   "cell_type": "markdown",
   "id": "5e68803c",
   "metadata": {},
   "source": [
    "# Observation\n",
    "\n",
    "1. There's a consistent pattern across decades with fewer births on weekends (Saturday and Sunday) compared to weekdays.\n",
    "2. Tuesday tend to have relatively higher births, possibly attributed to scheduled inductions or cesarean deliveries.\n",
    "3. The overall trend appears to be relatively stable across the decades, indicating a consistent distribution of births by weekday over time.\n",
    "4. These observations provide insights into the distribution of births by weekday over several decades."
   ]
  },
  {
   "cell_type": "markdown",
   "id": "cc859344",
   "metadata": {},
   "source": [
    "# Question No 7\n",
    "Group the data by month and day separately\n",
    "\n",
    "### Answer"
   ]
  },
  {
   "cell_type": "code",
   "execution_count": 11,
   "id": "ee52075e",
   "metadata": {},
   "outputs": [
    {
     "name": "stdout",
     "output_type": "stream",
     "text": [
      "\n",
      "births by months:\n",
      "\n",
      "month\n",
      "1     5759568\n",
      "2     7582391\n",
      "3     5868651\n",
      "4     5712231\n",
      "5     5785602\n",
      "6     5759233\n",
      "7     6220777\n",
      "8     6310276\n",
      "9     6206785\n",
      "10    6056193\n",
      "11    6149799\n",
      "12    5905087\n",
      "Name: births, dtype: int64\n",
      "\n",
      "births by day:\n",
      "\n",
      "day\n",
      "1.0     2286854\n",
      "2.0     2303168\n",
      "3.0     2309087\n",
      "4.0     2286588\n",
      "5.0     2296951\n",
      "6.0     2308073\n",
      "7.0     2314081\n",
      "8.0     2322376\n",
      "9.0     2315055\n",
      "10.0    2327197\n",
      "11.0    2319561\n",
      "12.0    2322956\n",
      "13.0    2290896\n",
      "14.0    2335551\n",
      "15.0    2333426\n",
      "16.0    2332456\n",
      "17.0    2335458\n",
      "18.0    2334949\n",
      "19.0    2331183\n",
      "20.0    2337631\n",
      "21.0    2329563\n",
      "22.0    2317711\n",
      "23.0    2305174\n",
      "24.0    2290500\n",
      "25.0    2283975\n",
      "26.0    2300208\n",
      "27.0    2314088\n",
      "28.0    2328630\n",
      "29.0    2189278\n",
      "30.0    2141788\n",
      "31.0    1342126\n",
      "99.0       6403\n",
      "Name: births, dtype: int64\n"
     ]
    }
   ],
   "source": [
    "grouped_by_month = df.groupby('month')['births'].sum()\n",
    "\n",
    "grouped_by_day = df.groupby('day')['births'].sum()\n",
    "\n",
    "print('\\nbirths by months:\\n')\n",
    "print(grouped_by_month)\n",
    "print('\\nbirths by day:\\n')\n",
    "print(grouped_by_day)"
   ]
  },
  {
   "cell_type": "markdown",
   "id": "179df9e3",
   "metadata": {},
   "source": [
    "# Question No 8\n",
    " Focusing on the month and day only, you have a time series reflecting the average number of\n",
    "births by date of the year. From this, plot the data.\n",
    "### Answer"
   ]
  },
  {
   "cell_type": "code",
   "execution_count": 12,
   "id": "adf247e1",
   "metadata": {},
   "outputs": [
    {
     "name": "stderr",
     "output_type": "stream",
     "text": [
      "C:\\Users\\PMLS\\AppData\\Local\\Temp\\ipykernel_9808\\4147962444.py:9: MatplotlibDeprecationWarning: The seaborn styles shipped by Matplotlib are deprecated since 3.6, as they no longer correspond to the styles shipped by seaborn. However, they will remain available as 'seaborn-v0_8-<style>'. Alternatively, directly use the seaborn API instead.\n",
      "  plt.style.use('seaborn')\n"
     ]
    },
    {
     "data": {
      "text/plain": [
       "(10957.0, 11322.0)"
      ]
     },
     "execution_count": 12,
     "metadata": {},
     "output_type": "execute_result"
    },
    {
     "data": {
      "image/png": "[encoded data removed]",
      "text/plain": [
       "<Figure size 800x550 with 1 Axes>"
      ]
     },
     "metadata": {},
     "output_type": "display_data"
    }
   ],
   "source": [
    "dailyMean = df.groupby(['month','day'])['births'].mean().reset_index()\n",
    "\n",
    "dr = pd.date_range('01-01-2020', '12-31-2020', freq='D')\n",
    "realdates = pd.Series(tuple(zip(dr.month, dr.day)))\n",
    "dfdates = pd.Series(tuple(zip(dailyMean['month'], dailyMean['day'].astype(int))))\n",
    "dailyMean = dailyMean[dfdates.isin(realdates)]\n",
    "dates = pd.to_datetime(dict(year=2000, month=dailyMean['month'], day=dailyMean['day']))\n",
    "\n",
    "plt.style.use('seaborn')\n",
    "fig, ax = plt.subplots()\n",
    "ax.plot(dates, dailyMean['births'])\n",
    "ax.xaxis.set_major_formatter(mdates.DateFormatter('%b'))\n",
    "ax.xaxis.set_major_locator(mdates.MonthLocator())\n",
    "ax.set_xlim(dates.iloc[0], dates.iloc[-1])"
   ]
  }
 ],
 "metadata": {
  "kernelspec": {
   "display_name": "Python 3 (ipykernel)",
   "language": "python",
   "name": "python3"
  },
  "language_info": {
   "codemirror_mode": {
    "name": "ipython",
    "version": 3
   },
   "file_extension": ".py",
   "mimetype": "text/x-python",
   "name": "python",
   "nbconvert_exporter": "python",
   "pygments_lexer": "ipython3",
   "version": "3.11.4"
  }
 },
 "nbformat": 4,
 "nbformat_minor": 5
}
