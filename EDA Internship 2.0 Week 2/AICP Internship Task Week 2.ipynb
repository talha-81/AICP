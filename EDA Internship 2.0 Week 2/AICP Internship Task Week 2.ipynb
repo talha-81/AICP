{
 "cells": [
  {
   "cell_type": "markdown",
   "id": "c1e99ae5",
   "metadata": {},
   "source": [
    "# AICP Intership Task Week 2\n"
   ]
  },
  {
   "cell_type": "markdown",
   "id": "53830ca1",
   "metadata": {},
   "source": [
    "## Import Libraries"
   ]
  },
  {
   "cell_type": "code",
   "execution_count": 1,
   "id": "b5da2679",
   "metadata": {},
   "outputs": [],
   "source": [
    "import pandas as pd"
   ]
  },
  {
   "cell_type": "markdown",
   "id": "54ad8820",
   "metadata": {},
   "source": [
    "## Question No 1\n",
    "\n",
    "Writer pandas series code to get following output without using dictionary:\n",
    "\n",
    "## Answer"
   ]
  },
  {
   "cell_type": "code",
   "execution_count": 2,
   "id": "84fc3db1",
   "metadata": {},
   "outputs": [
    {
     "name": "stdout",
     "output_type": "stream",
     "text": [
      "a    1\n",
      "x    4\n",
      "c    9\n",
      "2    6\n",
      "e    7\n",
      "dtype: int64\n"
     ]
    }
   ],
   "source": [
    "data = [1, 4, 9, 6, 7]\n",
    "index = ['a', 'x', 'c', '2', 'e']\n",
    "\n",
    "series = pd.Series(data, index=index)\n",
    "print(series)"
   ]
  },
  {
   "cell_type": "markdown",
   "id": "df66c313",
   "metadata": {},
   "source": [
    "## Question No 2\n",
    "\n",
    "Q.2: Writer pandas series code to get following output using dictionary:\n",
    "\n",
    "## Answer"
   ]
  },
  {
   "cell_type": "code",
   "execution_count": 3,
   "id": "d17b91e1",
   "metadata": {},
   "outputs": [
    {
     "name": "stdout",
     "output_type": "stream",
     "text": [
      "Bilal     42\n",
      "Ayesha    38\n",
      "Hadia     39\n",
      "dtype: int64\n"
     ]
    }
   ],
   "source": [
    "dic = {'Bilal': 42, 'Ayesha': 38, 'Hadia': 39}\n",
    "\n",
    "series = pd.Series(dic)\n",
    "print(series)"
   ]
  },
  {
   "cell_type": "markdown",
   "id": "8110d079",
   "metadata": {},
   "source": [
    "## Question No 3\n",
    "\n",
    "Write pandas dataframe code to get following output using python dictionary\n",
    "\n",
    "## Answer"
   ]
  },
  {
   "cell_type": "code",
   "execution_count": 24,
   "id": "c6ee4d05",
   "metadata": {},
   "outputs": [
    {
     "data": {
      "text/html": [
       "<div>\n",
       "<style scoped>\n",
       "    .dataframe tbody tr th:only-of-type {\n",
       "        vertical-align: middle;\n",
       "    }\n",
       "\n",
       "    .dataframe tbody tr th {\n",
       "        vertical-align: top;\n",
       "    }\n",
       "\n",
       "    .dataframe thead th {\n",
       "        text-align: right;\n",
       "    }\n",
       "</style>\n",
       "<table border=\"1\" class=\"dataframe\">\n",
       "  <thead>\n",
       "    <tr style=\"text-align: right;\">\n",
       "      <th></th>\n",
       "      <th>day</th>\n",
       "      <th>temperature</th>\n",
       "      <th>windspeed</th>\n",
       "      <th>event</th>\n",
       "    </tr>\n",
       "  </thead>\n",
       "  <tbody>\n",
       "    <tr>\n",
       "      <th>0</th>\n",
       "      <td>1/1/2017</td>\n",
       "      <td>32</td>\n",
       "      <td>6</td>\n",
       "      <td>Rain</td>\n",
       "    </tr>\n",
       "    <tr>\n",
       "      <th>1</th>\n",
       "      <td>1/2/2017</td>\n",
       "      <td>35</td>\n",
       "      <td>7</td>\n",
       "      <td>Sunny</td>\n",
       "    </tr>\n",
       "    <tr>\n",
       "      <th>2</th>\n",
       "      <td>1/3/2017</td>\n",
       "      <td>28</td>\n",
       "      <td>2</td>\n",
       "      <td>Snow</td>\n",
       "    </tr>\n",
       "    <tr>\n",
       "      <th>3</th>\n",
       "      <td>1/4/2017</td>\n",
       "      <td>24</td>\n",
       "      <td>7</td>\n",
       "      <td>Snow</td>\n",
       "    </tr>\n",
       "    <tr>\n",
       "      <th>4</th>\n",
       "      <td>1/5/2017</td>\n",
       "      <td>32</td>\n",
       "      <td>4</td>\n",
       "      <td>Rain</td>\n",
       "    </tr>\n",
       "    <tr>\n",
       "      <th>5</th>\n",
       "      <td>1/6/2017</td>\n",
       "      <td>31</td>\n",
       "      <td>2</td>\n",
       "      <td>Sunny</td>\n",
       "    </tr>\n",
       "  </tbody>\n",
       "</table>\n",
       "</div>"
      ],
      "text/plain": [
       "        day  temperature  windspeed  event\n",
       "0  1/1/2017           32          6   Rain\n",
       "1  1/2/2017           35          7  Sunny\n",
       "2  1/3/2017           28          2   Snow\n",
       "3  1/4/2017           24          7   Snow\n",
       "4  1/5/2017           32          4   Rain\n",
       "5  1/6/2017           31          2  Sunny"
      ]
     },
     "execution_count": 24,
     "metadata": {},
     "output_type": "execute_result"
    }
   ],
   "source": [
    "data = {\n",
    "    'day': ['1/1/2017', '1/2/2017', '1/3/2017', '1/4/2017', '1/5/2017', '1/6/2017'],\n",
    "    'temperature': [32, 35, 28, 24, 32, 31],\n",
    "    'windspeed': [6, 7, 2, 7, 4, 2],\n",
    "    'event': [ 'Rain', 'Sunny', 'Snow', 'Snow', 'Rain','Sunny']\n",
    "}\n",
    "\n",
    "df = pd.DataFrame(data)\n",
    "df"
   ]
  },
  {
   "cell_type": "markdown",
   "id": "7ae46c1c",
   "metadata": {},
   "source": [
    "## Question No 4\n",
    "\n",
    "In extension to above question, you are required to replace index by ['a','b','c','d','e','f']\n",
    "## Answer"
   ]
  },
  {
   "cell_type": "code",
   "execution_count": 25,
   "id": "7bf33344",
   "metadata": {},
   "outputs": [
    {
     "data": {
      "text/html": [
       "<div>\n",
       "<style scoped>\n",
       "    .dataframe tbody tr th:only-of-type {\n",
       "        vertical-align: middle;\n",
       "    }\n",
       "\n",
       "    .dataframe tbody tr th {\n",
       "        vertical-align: top;\n",
       "    }\n",
       "\n",
       "    .dataframe thead th {\n",
       "        text-align: right;\n",
       "    }\n",
       "</style>\n",
       "<table border=\"1\" class=\"dataframe\">\n",
       "  <thead>\n",
       "    <tr style=\"text-align: right;\">\n",
       "      <th></th>\n",
       "      <th>day</th>\n",
       "      <th>temperature</th>\n",
       "      <th>windspeed</th>\n",
       "      <th>event</th>\n",
       "    </tr>\n",
       "  </thead>\n",
       "  <tbody>\n",
       "    <tr>\n",
       "      <th>a</th>\n",
       "      <td>1/1/2017</td>\n",
       "      <td>32</td>\n",
       "      <td>6</td>\n",
       "      <td>Rain</td>\n",
       "    </tr>\n",
       "    <tr>\n",
       "      <th>b</th>\n",
       "      <td>1/2/2017</td>\n",
       "      <td>35</td>\n",
       "      <td>7</td>\n",
       "      <td>Sunny</td>\n",
       "    </tr>\n",
       "    <tr>\n",
       "      <th>c</th>\n",
       "      <td>1/3/2017</td>\n",
       "      <td>28</td>\n",
       "      <td>2</td>\n",
       "      <td>Snow</td>\n",
       "    </tr>\n",
       "    <tr>\n",
       "      <th>d</th>\n",
       "      <td>1/4/2017</td>\n",
       "      <td>24</td>\n",
       "      <td>7</td>\n",
       "      <td>Snow</td>\n",
       "    </tr>\n",
       "    <tr>\n",
       "      <th>e</th>\n",
       "      <td>1/5/2017</td>\n",
       "      <td>32</td>\n",
       "      <td>4</td>\n",
       "      <td>Rain</td>\n",
       "    </tr>\n",
       "    <tr>\n",
       "      <th>f</th>\n",
       "      <td>1/6/2017</td>\n",
       "      <td>31</td>\n",
       "      <td>2</td>\n",
       "      <td>Sunny</td>\n",
       "    </tr>\n",
       "  </tbody>\n",
       "</table>\n",
       "</div>"
      ],
      "text/plain": [
       "        day  temperature  windspeed  event\n",
       "a  1/1/2017           32          6   Rain\n",
       "b  1/2/2017           35          7  Sunny\n",
       "c  1/3/2017           28          2   Snow\n",
       "d  1/4/2017           24          7   Snow\n",
       "e  1/5/2017           32          4   Rain\n",
       "f  1/6/2017           31          2  Sunny"
      ]
     },
     "execution_count": 25,
     "metadata": {},
     "output_type": "execute_result"
    }
   ],
   "source": [
    "df.index = ['a', 'b', 'c', 'd', 'e', 'f']\n",
    "df"
   ]
  },
  {
   "cell_type": "markdown",
   "id": "02426f59",
   "metadata": {},
   "source": [
    "## Question No 5\n",
    "\n",
    "In extension to above Q.3, calculate mean, miximum and minimum for label “temperature”\n",
    "\n",
    "## Answer"
   ]
  },
  {
   "cell_type": "code",
   "execution_count": 26,
   "id": "589a36d9",
   "metadata": {},
   "outputs": [
    {
     "name": "stdout",
     "output_type": "stream",
     "text": [
      "Mean Temperature: 30.333333333333332\n"
     ]
    }
   ],
   "source": [
    "mean_temperature = df['temperature'].mean()\n",
    "print(\"Mean Temperature:\", mean_temperature)"
   ]
  },
  {
   "cell_type": "code",
   "execution_count": 27,
   "id": "b038610f",
   "metadata": {},
   "outputs": [
    {
     "name": "stdout",
     "output_type": "stream",
     "text": [
      "Maximum Temperature: 35\n"
     ]
    }
   ],
   "source": [
    "max_temperature = df['temperature'].max()\n",
    "print(\"Maximum Temperature:\", max_temperature)"
   ]
  },
  {
   "cell_type": "code",
   "execution_count": 28,
   "id": "6b162f75",
   "metadata": {},
   "outputs": [
    {
     "name": "stdout",
     "output_type": "stream",
     "text": [
      "Minimum Temperature: 24\n"
     ]
    }
   ],
   "source": [
    "min_temperature = df['temperature'].min()\n",
    "print(\"Minimum Temperature:\", min_temperature)"
   ]
  },
  {
   "cell_type": "markdown",
   "id": "18ad5355",
   "metadata": {},
   "source": [
    "## Question No 6\n",
    "\n",
    "Import CSV ‘people.csv’ in the given folder. Keep in mind the following instructions:\n",
    "- You’re required to import only specific columns [\"First Name\", \"Sex\", \"Email\", “Phone”, “Job Title”] \n",
    "- Set the following columns [\"Sex\", \"Job Title\"] as index columns\n",
    "- Skip following rows [1,5]\n",
    "- Export the CSV as “NewPeople.csv”\n",
    "\n",
    "## Answer"
   ]
  },
  {
   "cell_type": "markdown",
   "id": "a96ad1f1",
   "metadata": {},
   "source": [
    "- Import the File"
   ]
  },
  {
   "cell_type": "code",
   "execution_count": 106,
   "id": "29f9ee23",
   "metadata": {},
   "outputs": [],
   "source": [
    "file_path = 'C:\\\\Users\\\\PMLS\\\\Desktop\\\\\\EDA Internship 2.0 Week 2\\\\people.csv'\n",
    "\n",
    "df2 = pd.read_csv(file_path)"
   ]
  },
  {
   "cell_type": "markdown",
   "id": "63548895",
   "metadata": {},
   "source": [
    "- Import the specipic columns"
   ]
  },
  {
   "cell_type": "code",
   "execution_count": 59,
   "id": "a7bc8473",
   "metadata": {},
   "outputs": [
    {
     "data": {
      "text/html": [
       "<div>\n",
       "<style scoped>\n",
       "    .dataframe tbody tr th:only-of-type {\n",
       "        vertical-align: middle;\n",
       "    }\n",
       "\n",
       "    .dataframe tbody tr th {\n",
       "        vertical-align: top;\n",
       "    }\n",
       "\n",
       "    .dataframe thead th {\n",
       "        text-align: right;\n",
       "    }\n",
       "</style>\n",
       "<table border=\"1\" class=\"dataframe\">\n",
       "  <thead>\n",
       "    <tr style=\"text-align: right;\">\n",
       "      <th></th>\n",
       "      <th>Index</th>\n",
       "      <th>User Id</th>\n",
       "      <th>First Name</th>\n",
       "      <th>Last Name</th>\n",
       "      <th>Sex</th>\n",
       "      <th>Email</th>\n",
       "      <th>Phone</th>\n",
       "      <th>Date of birth</th>\n",
       "      <th>Job Title</th>\n",
       "    </tr>\n",
       "  </thead>\n",
       "  <tbody>\n",
       "    <tr>\n",
       "      <th>0</th>\n",
       "      <td>1</td>\n",
       "      <td>88F7B33d2bcf9f5</td>\n",
       "      <td>Shelby</td>\n",
       "      <td>Terrell</td>\n",
       "      <td>Male</td>\n",
       "      <td>elijah57@example.net</td>\n",
       "      <td>001-084-906-7849x73518</td>\n",
       "      <td>1945-10-26</td>\n",
       "      <td>Games developer</td>\n",
       "    </tr>\n",
       "    <tr>\n",
       "      <th>1</th>\n",
       "      <td>2</td>\n",
       "      <td>f90cD3E76f1A9b9</td>\n",
       "      <td>Phillip</td>\n",
       "      <td>Summers</td>\n",
       "      <td>Female</td>\n",
       "      <td>bethany14@example.com</td>\n",
       "      <td>214.112.6044x4913</td>\n",
       "      <td>1910-03-24</td>\n",
       "      <td>Phytotherapist</td>\n",
       "    </tr>\n",
       "    <tr>\n",
       "      <th>2</th>\n",
       "      <td>3</td>\n",
       "      <td>DbeAb8CcdfeFC2c</td>\n",
       "      <td>Kristine</td>\n",
       "      <td>Travis</td>\n",
       "      <td>Male</td>\n",
       "      <td>bthompson@example.com</td>\n",
       "      <td>277.609.7938</td>\n",
       "      <td>1992-07-02</td>\n",
       "      <td>Homeopath</td>\n",
       "    </tr>\n",
       "    <tr>\n",
       "      <th>3</th>\n",
       "      <td>4</td>\n",
       "      <td>A31Bee3c201ef58</td>\n",
       "      <td>Yesenia</td>\n",
       "      <td>Martinez</td>\n",
       "      <td>Male</td>\n",
       "      <td>kaitlinkaiser@example.com</td>\n",
       "      <td>584.094.6111</td>\n",
       "      <td>2017-08-03</td>\n",
       "      <td>Market researcher</td>\n",
       "    </tr>\n",
       "    <tr>\n",
       "      <th>4</th>\n",
       "      <td>5</td>\n",
       "      <td>1bA7A3dc874da3c</td>\n",
       "      <td>Lori</td>\n",
       "      <td>Todd</td>\n",
       "      <td>Male</td>\n",
       "      <td>buchananmanuel@example.net</td>\n",
       "      <td>689-207-3558x7233</td>\n",
       "      <td>1938-12-01</td>\n",
       "      <td>Veterinary surgeon</td>\n",
       "    </tr>\n",
       "  </tbody>\n",
       "</table>\n",
       "</div>"
      ],
      "text/plain": [
       "   Index          User Id First Name Last Name     Sex  \\\n",
       "0      1  88F7B33d2bcf9f5     Shelby   Terrell    Male   \n",
       "1      2  f90cD3E76f1A9b9    Phillip   Summers  Female   \n",
       "2      3  DbeAb8CcdfeFC2c   Kristine    Travis    Male   \n",
       "3      4  A31Bee3c201ef58    Yesenia  Martinez    Male   \n",
       "4      5  1bA7A3dc874da3c       Lori      Todd    Male   \n",
       "\n",
       "                        Email                   Phone Date of birth  \\\n",
       "0        elijah57@example.net  001-084-906-7849x73518    1945-10-26   \n",
       "1       bethany14@example.com       214.112.6044x4913    1910-03-24   \n",
       "2       bthompson@example.com            277.609.7938    1992-07-02   \n",
       "3   kaitlinkaiser@example.com            584.094.6111    2017-08-03   \n",
       "4  buchananmanuel@example.net       689-207-3558x7233    1938-12-01   \n",
       "\n",
       "            Job Title  \n",
       "0     Games developer  \n",
       "1      Phytotherapist  \n",
       "2           Homeopath  \n",
       "3   Market researcher  \n",
       "4  Veterinary surgeon  "
      ]
     },
     "execution_count": 59,
     "metadata": {},
     "output_type": "execute_result"
    }
   ],
   "source": [
    "columns_to_import = [\"First Name\", \"Sex\", \"Email\", \"Phone\", \"Job Title\"]\n",
    "df2.head()"
   ]
  },
  {
   "cell_type": "markdown",
   "id": "8b4da007",
   "metadata": {},
   "source": [
    "- Set Index and Skip the row 2"
   ]
  },
  {
   "cell_type": "code",
   "execution_count": 61,
   "id": "e3f32562",
   "metadata": {},
   "outputs": [],
   "source": [
    "index_columns = [\"Sex\", \"Job Title\"]\n",
    "skip_rows = [1, 5]\n",
    "\n",
    "df2 = pd.read_csv(file_path, usecols=columns_to_import, skiprows=skip_rows)\n",
    "df2.set_index(index_columns, inplace=True)\n",
    "df2.head()"
   ]
  },
  {
   "cell_type": "markdown",
   "id": "396b17c9",
   "metadata": {},
   "source": [
    "- Export the File"
   ]
  },
  {
   "cell_type": "code",
   "execution_count": 63,
   "id": "dad2fd04",
   "metadata": {},
   "outputs": [
    {
     "name": "stdout",
     "output_type": "stream",
     "text": [
      "CSV file exported successfully as 'NewPeople.csv'\n"
     ]
    }
   ],
   "source": [
    "df2.to_csv('NewPeople.csv')\n",
    "print(\"CSV file exported successfully as 'NewPeople.csv'\")"
   ]
  },
  {
   "cell_type": "markdown",
   "id": "65a3790b",
   "metadata": {},
   "source": [
    "## Question No 7\n",
    "\n",
    "Import excel sheet ‘SampleWork.xlsx’ in the given folder. Keep in mind the following instructions: \n",
    "- Import sheet 1\n",
    "- Import only first and last column from sheet 1 \n",
    "- Skip row 2 while importing the sheet\n",
    "- Set row 2 as header export as new sheet.\n",
    "\n",
    "\n",
    "## Answer"
   ]
  },
  {
   "cell_type": "code",
   "execution_count": 102,
   "id": "cf023419",
   "metadata": {},
   "outputs": [
    {
     "data": {
      "text/html": [
       "<div>\n",
       "<style scoped>\n",
       "    .dataframe tbody tr th:only-of-type {\n",
       "        vertical-align: middle;\n",
       "    }\n",
       "\n",
       "    .dataframe tbody tr th {\n",
       "        vertical-align: top;\n",
       "    }\n",
       "\n",
       "    .dataframe thead th {\n",
       "        text-align: right;\n",
       "    }\n",
       "</style>\n",
       "<table border=\"1\" class=\"dataframe\">\n",
       "  <thead>\n",
       "    <tr style=\"text-align: right;\">\n",
       "      <th></th>\n",
       "      <th>Bilal</th>\n",
       "      <th>90</th>\n",
       "    </tr>\n",
       "  </thead>\n",
       "  <tbody>\n",
       "    <tr>\n",
       "      <th>0</th>\n",
       "      <td>Sufyan</td>\n",
       "      <td>85</td>\n",
       "    </tr>\n",
       "    <tr>\n",
       "      <th>1</th>\n",
       "      <td>Saiqa</td>\n",
       "      <td>80</td>\n",
       "    </tr>\n",
       "    <tr>\n",
       "      <th>2</th>\n",
       "      <td>Aimen</td>\n",
       "      <td>75</td>\n",
       "    </tr>\n",
       "  </tbody>\n",
       "</table>\n",
       "</div>"
      ],
      "text/plain": [
       "    Bilal  90\n",
       "0  Sufyan  85\n",
       "1   Saiqa  80\n",
       "2   Aimen  75"
      ]
     },
     "execution_count": 102,
     "metadata": {},
     "output_type": "execute_result"
    }
   ],
   "source": [
    "path = 'C:\\\\Users\\\\PMLS\\\\Desktop\\\\EDA Internship 2.0 Week 2\\\\SampleWork.xlsx'\n",
    "\n",
    "df3 = pd.read_excel(path, sheet_name=0, usecols=[0, 3], skiprows=[1],header=[1])\n",
    "df3"
   ]
  },
  {
   "cell_type": "markdown",
   "id": "3a247477",
   "metadata": {},
   "source": [
    "- Export the file"
   ]
  },
  {
   "cell_type": "code",
   "execution_count": 103,
   "id": "ee8c5ed2",
   "metadata": {},
   "outputs": [
    {
     "name": "stdout",
     "output_type": "stream",
     "text": [
      "Excel file exported successfully as 'new-sheet.xlsx'\n"
     ]
    }
   ],
   "source": [
    "df3.to_excel('new_sheet.xlsx')\n",
    "print(\"Excel file exported successfully as 'new-sheet.xlsx'\")"
   ]
  },
  {
   "cell_type": "markdown",
   "id": "1c2426c7",
   "metadata": {},
   "source": [
    "## Question No 8\n",
    "\n",
    "Create the following dataframe as AICP_DF then implement different operations as described below: \n",
    "- select 'Name', 'Qualification' coloumns and save to df1\n",
    "- add a new column to AICP_DF “Height” with the following values: [5.1, 6.2, 5.1, 5.2,5.1] \n",
    "- set column “Name” as the index column.\n",
    "- retrieve row with index “Hifza” retrieve row with index 3 \n",
    "- drop row with index “Bilal”\n",
    "\n",
    "\n",
    "## Answer"
   ]
  },
  {
   "cell_type": "code",
   "execution_count": 124,
   "id": "f96cfc5b",
   "metadata": {},
   "outputs": [
    {
     "data": {
      "text/html": [
       "<div>\n",
       "<style scoped>\n",
       "    .dataframe tbody tr th:only-of-type {\n",
       "        vertical-align: middle;\n",
       "    }\n",
       "\n",
       "    .dataframe tbody tr th {\n",
       "        vertical-align: top;\n",
       "    }\n",
       "\n",
       "    .dataframe thead th {\n",
       "        text-align: right;\n",
       "    }\n",
       "</style>\n",
       "<table border=\"1\" class=\"dataframe\">\n",
       "  <thead>\n",
       "    <tr style=\"text-align: right;\">\n",
       "      <th></th>\n",
       "      <th>Name</th>\n",
       "      <th>Age</th>\n",
       "      <th>Address</th>\n",
       "      <th>Qualification</th>\n",
       "    </tr>\n",
       "  </thead>\n",
       "  <tbody>\n",
       "    <tr>\n",
       "      <th>0</th>\n",
       "      <td>Sonia</td>\n",
       "      <td>27</td>\n",
       "      <td>Lahore</td>\n",
       "      <td>Msc</td>\n",
       "    </tr>\n",
       "    <tr>\n",
       "      <th>1</th>\n",
       "      <td>Bilal</td>\n",
       "      <td>24</td>\n",
       "      <td>Karachi</td>\n",
       "      <td>MA</td>\n",
       "    </tr>\n",
       "    <tr>\n",
       "      <th>2</th>\n",
       "      <td>Hifza</td>\n",
       "      <td>22</td>\n",
       "      <td>Sialkot</td>\n",
       "      <td>MCA</td>\n",
       "    </tr>\n",
       "    <tr>\n",
       "      <th>3</th>\n",
       "      <td>Kabir</td>\n",
       "      <td>32</td>\n",
       "      <td>Peshawar</td>\n",
       "      <td>Phd</td>\n",
       "    </tr>\n",
       "    <tr>\n",
       "      <th>4</th>\n",
       "      <td>Jazim</td>\n",
       "      <td>23</td>\n",
       "      <td>lhr</td>\n",
       "      <td>bsc</td>\n",
       "    </tr>\n",
       "  </tbody>\n",
       "</table>\n",
       "</div>"
      ],
      "text/plain": [
       "    Name  Age   Address Qualification\n",
       "0  Sonia   27    Lahore           Msc\n",
       "1  Bilal   24   Karachi            MA\n",
       "2  Hifza   22   Sialkot           MCA\n",
       "3  Kabir   32  Peshawar           Phd\n",
       "4  Jazim   23       lhr           bsc"
      ]
     },
     "execution_count": 124,
     "metadata": {},
     "output_type": "execute_result"
    }
   ],
   "source": [
    "data = {\n",
    "    'Name': ['Sonia', 'Bilal', 'Hifza', 'Kabir', 'Jazim'],\n",
    "    'Age': [27, 24, 22, 32, 23],\n",
    "    'Address': ['Lahore', 'Karachi', 'Sialkot', 'Peshawar', 'lhr'],\n",
    "    'Qualification': ['Msc', 'MA', 'MCA', 'Phd', 'bsc']\n",
    "}\n",
    "\n",
    "AICP_DF = pd.DataFrame(data)\n",
    "AICP_DF"
   ]
  },
  {
   "cell_type": "code",
   "execution_count": 125,
   "id": "7f977ee0",
   "metadata": {},
   "outputs": [
    {
     "name": "stdout",
     "output_type": "stream",
     "text": [
      "\n",
      "DataFrame df1:\n"
     ]
    },
    {
     "data": {
      "text/html": [
       "<div>\n",
       "<style scoped>\n",
       "    .dataframe tbody tr th:only-of-type {\n",
       "        vertical-align: middle;\n",
       "    }\n",
       "\n",
       "    .dataframe tbody tr th {\n",
       "        vertical-align: top;\n",
       "    }\n",
       "\n",
       "    .dataframe thead th {\n",
       "        text-align: right;\n",
       "    }\n",
       "</style>\n",
       "<table border=\"1\" class=\"dataframe\">\n",
       "  <thead>\n",
       "    <tr style=\"text-align: right;\">\n",
       "      <th></th>\n",
       "      <th>Name</th>\n",
       "      <th>Qualification</th>\n",
       "    </tr>\n",
       "  </thead>\n",
       "  <tbody>\n",
       "    <tr>\n",
       "      <th>0</th>\n",
       "      <td>Sonia</td>\n",
       "      <td>Msc</td>\n",
       "    </tr>\n",
       "    <tr>\n",
       "      <th>1</th>\n",
       "      <td>Bilal</td>\n",
       "      <td>MA</td>\n",
       "    </tr>\n",
       "    <tr>\n",
       "      <th>2</th>\n",
       "      <td>Hifza</td>\n",
       "      <td>MCA</td>\n",
       "    </tr>\n",
       "    <tr>\n",
       "      <th>3</th>\n",
       "      <td>Kabir</td>\n",
       "      <td>Phd</td>\n",
       "    </tr>\n",
       "    <tr>\n",
       "      <th>4</th>\n",
       "      <td>Jazim</td>\n",
       "      <td>bsc</td>\n",
       "    </tr>\n",
       "  </tbody>\n",
       "</table>\n",
       "</div>"
      ],
      "text/plain": [
       "    Name Qualification\n",
       "0  Sonia           Msc\n",
       "1  Bilal            MA\n",
       "2  Hifza           MCA\n",
       "3  Kabir           Phd\n",
       "4  Jazim           bsc"
      ]
     },
     "execution_count": 125,
     "metadata": {},
     "output_type": "execute_result"
    }
   ],
   "source": [
    "# Selecting 'Name' and 'Qualification' columns and saving to df1\n",
    "df1 = AICP_DF[['Name', 'Qualification']]\n",
    "print(\"\\nDataFrame df1:\")\n",
    "df1"
   ]
  },
  {
   "cell_type": "code",
   "execution_count": 126,
   "id": "de49e6ef",
   "metadata": {},
   "outputs": [
    {
     "data": {
      "text/html": [
       "<div>\n",
       "<style scoped>\n",
       "    .dataframe tbody tr th:only-of-type {\n",
       "        vertical-align: middle;\n",
       "    }\n",
       "\n",
       "    .dataframe tbody tr th {\n",
       "        vertical-align: top;\n",
       "    }\n",
       "\n",
       "    .dataframe thead th {\n",
       "        text-align: right;\n",
       "    }\n",
       "</style>\n",
       "<table border=\"1\" class=\"dataframe\">\n",
       "  <thead>\n",
       "    <tr style=\"text-align: right;\">\n",
       "      <th></th>\n",
       "      <th>Name</th>\n",
       "      <th>Age</th>\n",
       "      <th>Address</th>\n",
       "      <th>Qualification</th>\n",
       "      <th>Height</th>\n",
       "    </tr>\n",
       "  </thead>\n",
       "  <tbody>\n",
       "    <tr>\n",
       "      <th>0</th>\n",
       "      <td>Sonia</td>\n",
       "      <td>27</td>\n",
       "      <td>Lahore</td>\n",
       "      <td>Msc</td>\n",
       "      <td>5.1</td>\n",
       "    </tr>\n",
       "    <tr>\n",
       "      <th>1</th>\n",
       "      <td>Bilal</td>\n",
       "      <td>24</td>\n",
       "      <td>Karachi</td>\n",
       "      <td>MA</td>\n",
       "      <td>6.2</td>\n",
       "    </tr>\n",
       "    <tr>\n",
       "      <th>2</th>\n",
       "      <td>Hifza</td>\n",
       "      <td>22</td>\n",
       "      <td>Sialkot</td>\n",
       "      <td>MCA</td>\n",
       "      <td>5.1</td>\n",
       "    </tr>\n",
       "    <tr>\n",
       "      <th>3</th>\n",
       "      <td>Kabir</td>\n",
       "      <td>32</td>\n",
       "      <td>Peshawar</td>\n",
       "      <td>Phd</td>\n",
       "      <td>5.2</td>\n",
       "    </tr>\n",
       "    <tr>\n",
       "      <th>4</th>\n",
       "      <td>Jazim</td>\n",
       "      <td>23</td>\n",
       "      <td>lhr</td>\n",
       "      <td>bsc</td>\n",
       "      <td>5.1</td>\n",
       "    </tr>\n",
       "  </tbody>\n",
       "</table>\n",
       "</div>"
      ],
      "text/plain": [
       "    Name  Age   Address Qualification  Height\n",
       "0  Sonia   27    Lahore           Msc     5.1\n",
       "1  Bilal   24   Karachi            MA     6.2\n",
       "2  Hifza   22   Sialkot           MCA     5.1\n",
       "3  Kabir   32  Peshawar           Phd     5.2\n",
       "4  Jazim   23       lhr           bsc     5.1"
      ]
     },
     "execution_count": 126,
     "metadata": {},
     "output_type": "execute_result"
    }
   ],
   "source": [
    "# Adding a new column \"Height\" to AICP_DF\n",
    "AICP_DF['Height'] = [5.1, 6.2, 5.1, 5.2, 5.1]\n",
    "AICP_DF"
   ]
  },
  {
   "cell_type": "code",
   "execution_count": 127,
   "id": "8cd3098e",
   "metadata": {},
   "outputs": [
    {
     "data": {
      "text/html": [
       "<div>\n",
       "<style scoped>\n",
       "    .dataframe tbody tr th:only-of-type {\n",
       "        vertical-align: middle;\n",
       "    }\n",
       "\n",
       "    .dataframe tbody tr th {\n",
       "        vertical-align: top;\n",
       "    }\n",
       "\n",
       "    .dataframe thead th {\n",
       "        text-align: right;\n",
       "    }\n",
       "</style>\n",
       "<table border=\"1\" class=\"dataframe\">\n",
       "  <thead>\n",
       "    <tr style=\"text-align: right;\">\n",
       "      <th></th>\n",
       "      <th>Age</th>\n",
       "      <th>Address</th>\n",
       "      <th>Qualification</th>\n",
       "      <th>Height</th>\n",
       "    </tr>\n",
       "    <tr>\n",
       "      <th>Name</th>\n",
       "      <th></th>\n",
       "      <th></th>\n",
       "      <th></th>\n",
       "      <th></th>\n",
       "    </tr>\n",
       "  </thead>\n",
       "  <tbody>\n",
       "    <tr>\n",
       "      <th>Sonia</th>\n",
       "      <td>27</td>\n",
       "      <td>Lahore</td>\n",
       "      <td>Msc</td>\n",
       "      <td>5.1</td>\n",
       "    </tr>\n",
       "    <tr>\n",
       "      <th>Bilal</th>\n",
       "      <td>24</td>\n",
       "      <td>Karachi</td>\n",
       "      <td>MA</td>\n",
       "      <td>6.2</td>\n",
       "    </tr>\n",
       "    <tr>\n",
       "      <th>Hifza</th>\n",
       "      <td>22</td>\n",
       "      <td>Sialkot</td>\n",
       "      <td>MCA</td>\n",
       "      <td>5.1</td>\n",
       "    </tr>\n",
       "    <tr>\n",
       "      <th>Kabir</th>\n",
       "      <td>32</td>\n",
       "      <td>Peshawar</td>\n",
       "      <td>Phd</td>\n",
       "      <td>5.2</td>\n",
       "    </tr>\n",
       "    <tr>\n",
       "      <th>Jazim</th>\n",
       "      <td>23</td>\n",
       "      <td>lhr</td>\n",
       "      <td>bsc</td>\n",
       "      <td>5.1</td>\n",
       "    </tr>\n",
       "  </tbody>\n",
       "</table>\n",
       "</div>"
      ],
      "text/plain": [
       "       Age   Address Qualification  Height\n",
       "Name                                      \n",
       "Sonia   27    Lahore           Msc     5.1\n",
       "Bilal   24   Karachi            MA     6.2\n",
       "Hifza   22   Sialkot           MCA     5.1\n",
       "Kabir   32  Peshawar           Phd     5.2\n",
       "Jazim   23       lhr           bsc     5.1"
      ]
     },
     "execution_count": 127,
     "metadata": {},
     "output_type": "execute_result"
    }
   ],
   "source": [
    "# Setting the column \"Name\" as the index column\n",
    "AICP_DF.set_index('Name', inplace=True)\n",
    "AICP_DF"
   ]
  },
  {
   "cell_type": "code",
   "execution_count": 128,
   "id": "93fbdeb2",
   "metadata": {},
   "outputs": [
    {
     "name": "stdout",
     "output_type": "stream",
     "text": [
      "\n",
      "Row with index 'Hifza':\n"
     ]
    },
    {
     "data": {
      "text/plain": [
       "Age                   22\n",
       "Address          Sialkot\n",
       "Qualification        MCA\n",
       "Height               5.1\n",
       "Name: Hifza, dtype: object"
      ]
     },
     "execution_count": 128,
     "metadata": {},
     "output_type": "execute_result"
    }
   ],
   "source": [
    "# Retrieving row with index \"Hifza\" and row with index 3\n",
    "row_hifza = AICP_DF.loc['Hifza']\n",
    "print(\"\\nRow with index 'Hifza':\")\n",
    "row_hifza"
   ]
  },
  {
   "cell_type": "code",
   "execution_count": 129,
   "id": "e0c0ecf3",
   "metadata": {},
   "outputs": [
    {
     "name": "stdout",
     "output_type": "stream",
     "text": [
      "\n",
      "Row with index 3:\n"
     ]
    },
    {
     "data": {
      "text/plain": [
       "Age                    32\n",
       "Address          Peshawar\n",
       "Qualification         Phd\n",
       "Height                5.2\n",
       "Name: Kabir, dtype: object"
      ]
     },
     "execution_count": 129,
     "metadata": {},
     "output_type": "execute_result"
    }
   ],
   "source": [
    "row_3 = AICP_DF.iloc[3]\n",
    "print(\"\\nRow with index 3:\")\n",
    "row_3"
   ]
  },
  {
   "cell_type": "code",
   "execution_count": 130,
   "id": "444e0ae4",
   "metadata": {},
   "outputs": [
    {
     "name": "stdout",
     "output_type": "stream",
     "text": [
      "Droped the row with Index Bilal\n"
     ]
    },
    {
     "data": {
      "text/html": [
       "<div>\n",
       "<style scoped>\n",
       "    .dataframe tbody tr th:only-of-type {\n",
       "        vertical-align: middle;\n",
       "    }\n",
       "\n",
       "    .dataframe tbody tr th {\n",
       "        vertical-align: top;\n",
       "    }\n",
       "\n",
       "    .dataframe thead th {\n",
       "        text-align: right;\n",
       "    }\n",
       "</style>\n",
       "<table border=\"1\" class=\"dataframe\">\n",
       "  <thead>\n",
       "    <tr style=\"text-align: right;\">\n",
       "      <th></th>\n",
       "      <th>Age</th>\n",
       "      <th>Address</th>\n",
       "      <th>Qualification</th>\n",
       "      <th>Height</th>\n",
       "    </tr>\n",
       "    <tr>\n",
       "      <th>Name</th>\n",
       "      <th></th>\n",
       "      <th></th>\n",
       "      <th></th>\n",
       "      <th></th>\n",
       "    </tr>\n",
       "  </thead>\n",
       "  <tbody>\n",
       "    <tr>\n",
       "      <th>Sonia</th>\n",
       "      <td>27</td>\n",
       "      <td>Lahore</td>\n",
       "      <td>Msc</td>\n",
       "      <td>5.1</td>\n",
       "    </tr>\n",
       "    <tr>\n",
       "      <th>Hifza</th>\n",
       "      <td>22</td>\n",
       "      <td>Sialkot</td>\n",
       "      <td>MCA</td>\n",
       "      <td>5.1</td>\n",
       "    </tr>\n",
       "    <tr>\n",
       "      <th>Kabir</th>\n",
       "      <td>32</td>\n",
       "      <td>Peshawar</td>\n",
       "      <td>Phd</td>\n",
       "      <td>5.2</td>\n",
       "    </tr>\n",
       "    <tr>\n",
       "      <th>Jazim</th>\n",
       "      <td>23</td>\n",
       "      <td>lhr</td>\n",
       "      <td>bsc</td>\n",
       "      <td>5.1</td>\n",
       "    </tr>\n",
       "  </tbody>\n",
       "</table>\n",
       "</div>"
      ],
      "text/plain": [
       "       Age   Address Qualification  Height\n",
       "Name                                      \n",
       "Sonia   27    Lahore           Msc     5.1\n",
       "Hifza   22   Sialkot           MCA     5.1\n",
       "Kabir   32  Peshawar           Phd     5.2\n",
       "Jazim   23       lhr           bsc     5.1"
      ]
     },
     "execution_count": 130,
     "metadata": {},
     "output_type": "execute_result"
    }
   ],
   "source": [
    "# Dropping row with index \"Bilal\"\n",
    "AICP_DF.drop('Bilal', inplace=True)\n",
    "print(\"Droped the row with Index Bilal\")\n",
    "AICP_DF\n",
    "\n"
   ]
  },
  {
   "cell_type": "code",
   "execution_count": null,
   "id": "3178e090",
   "metadata": {},
   "outputs": [],
   "source": []
  }
 ],
 "metadata": {
  "kernelspec": {
   "display_name": "Python 3 (ipykernel)",
   "language": "python",
   "name": "python3"
  },
  "language_info": {
   "codemirror_mode": {
    "name": "ipython",
    "version": 3
   },
   "file_extension": ".py",
   "mimetype": "text/x-python",
   "name": "python",
   "nbconvert_exporter": "python",
   "pygments_lexer": "ipython3",
   "version": "3.11.4"
  }
 },
 "nbformat": 4,
 "nbformat_minor": 5
}
